{
 "cells": [
  {
   "cell_type": "code",
   "execution_count": 11,
   "metadata": {},
   "outputs": [],
   "source": [
    "import numpy as np\n",
    "from matplotlib import pyplot as plt \n",
    "import pandas as pd\n",
    "import seaborn as sns\n",
    "from keras.backend import clear_session\n",
    "from keras.utils import to_categorical\n",
    "from keras.layers import Dense\n",
    "from keras.models import Sequential\n",
    "from keras.metrics import AUC\n",
    "from keras.wrappers.scikit_learn import KerasClassifier\n",
    "from sklearn.preprocessing import StandardScaler\n",
    "from sklearn.preprocessing import OneHotEncoder\n",
    "from sklearn.model_selection import train_test_split, cross_val_score, RandomizedSearchCV\n",
    "from sklearn.ensemble import ExtraTreesClassifier, RandomForestClassifier\n",
    "from sklearn.metrics import confusion_matrix, f1_score, precision_recall_curve, classification_report\n",
    "from tensorflow.random import set_seed\n",
    "from tensorflow import get_logger\n",
    "\n",
    "\n",
    "get_logger().setLevel('ERROR')\n",
    "\n",
    "# We use these random seeds to ensure reproductibility\n",
    "np.random.seed(1)\n",
    "set_seed(1)"
   ]
  },
  {
   "cell_type": "code",
   "execution_count": 12,
   "metadata": {},
   "outputs": [],
   "source": [
    "df = pd.read_csv('data/fetal_health.csv')\n",
    "\n",
    "df = df.drop(['histogram_tendency'], axis=1)\n",
    "\n",
    "X, y = df.drop(['fetal_health'],axis=1), df['fetal_health']\n",
    "\n",
    "#encoder = OneHotEncoder()\n",
    "#y = encoder.fit_transform(y.values.reshape(-1,1)).toarray()"
   ]
  },
  {
   "cell_type": "code",
   "execution_count": 13,
   "metadata": {},
   "outputs": [
    {
     "name": "stdout",
     "output_type": "stream",
     "text": [
      "Index(['baseline value', 'accelerations', 'fetal_movement',\n",
      "       'uterine_contractions', 'light_decelerations', 'severe_decelerations',\n",
      "       'prolongued_decelerations', 'abnormal_short_term_variability',\n",
      "       'mean_value_of_short_term_variability',\n",
      "       'percentage_of_time_with_abnormal_long_term_variability',\n",
      "       'mean_value_of_long_term_variability', 'histogram_width',\n",
      "       'histogram_min', 'histogram_max', 'histogram_number_of_peaks',\n",
      "       'histogram_number_of_zeroes', 'histogram_mode', 'histogram_mean',\n",
      "       'histogram_median', 'histogram_variance'],\n",
      "      dtype='object')\n",
      "[0.04675189 0.06288168 0.02868699 0.05435679 0.01690421 0.00218594\n",
      " 0.07048305 0.11397777 0.06828827 0.13491509 0.03909955 0.04083563\n",
      " 0.04240075 0.03152195 0.02397676 0.01107367 0.05613949 0.06596639\n",
      " 0.05624978 0.03330435]\n"
     ]
    }
   ],
   "source": [
    "forest = ExtraTreesClassifier(n_estimators=200, random_state=42)\n",
    "\n",
    "forest.fit(X, y)\n",
    "\n",
    "importance = forest.feature_importances_\n",
    "\n",
    "print(X.columns)\n",
    "print(importance)"
   ]
  },
  {
   "cell_type": "code",
   "execution_count": 14,
   "metadata": {},
   "outputs": [
    {
     "name": "stdout",
     "output_type": "stream",
     "text": [
      "The columns to drop are: ['fetal_movement', 'histogram_number_of_peaks', 'light_decelerations', 'histogram_number_of_zeroes', 'severe_decelerations']\n",
      "(2126, 20)\n",
      "(2126, 15)\n"
     ]
    }
   ],
   "source": [
    "def features_to_drop(columns, importance, threshold):\n",
    "    ''' \n",
    "    Input : \n",
    "    columns: columns that correspond to features\n",
    "    importance: list that correspond to the importance of each feature\n",
    "                (sum equal to 1)\n",
    "    threshold : float < 1 is a parameter  \n",
    "    \n",
    "    Output : \n",
    "    col_sorted : all columns sorted by importance\n",
    "    imp_sorted : all importances sorted from highest to lowest\n",
    "    col_todrop : all columns we want to drop in further analysis \n",
    "    '''\n",
    "    \n",
    "    index = np.argsort(importance)[::-1]\n",
    "\n",
    "    col_sorted, imp_sorted, col_todrop = [[], [], []]\n",
    "    tmp = 0\n",
    "    for i in range(np.size(importance)):\n",
    "        col_sorted.append(columns[index[i]])\n",
    "        imp_sorted.append(importance[index[i]])\n",
    "\n",
    "        if tmp > threshold:\n",
    "            col_todrop.append(columns[index[i]])\n",
    "        \n",
    "        tmp += importance[index[i]]\n",
    "\n",
    "    return col_sorted, imp_sorted, col_todrop\n",
    "\n",
    "_, _, col_todrop = features_to_drop(X.columns, importance, 0.90)\n",
    "\n",
    "print('The columns to drop are:', col_todrop)\n",
    "\n",
    "print(X.shape)\n",
    "\n",
    "X = X.drop(col_todrop, axis=1)\n",
    "\n",
    "print(X.shape)\n",
    "\n",
    "scaler = StandardScaler()\n",
    "X = scaler.fit_transform(X)\n"
   ]
  },
  {
   "cell_type": "markdown",
   "metadata": {},
   "source": [
    "I will try 3 different ensemble techniques : \n",
    "    - VotingClassification (with knn, logisticregression and classification tree)\n",
    "    - Random forest\n",
    "    - Extreme Gradient Boosting"
   ]
  },
  {
   "cell_type": "code",
   "execution_count": 25,
   "metadata": {},
   "outputs": [],
   "source": [
    "def print_f1score(model, X_train, y_train, y_test, y_pred):\n",
    "    \n",
    "    training_score = f1_score(y_train, \n",
    "                              model.predict(X_train), average=None)\n",
    "\n",
    "    test_score = f1_score(y_test, y_pred, average=None)\n",
    "\n",
    "    print('Training f1-score: %s'%training_score)\n",
    "    print('Test f1-score: %s'%test_score)\n",
    "\n",
    "def print_confusion_matrix(model, X_train, y_train, y_test, y_pred):\n",
    "    train_confusion = confusion_matrix(y_train, model.predict(X_train))\n",
    "    test_confusion = confusion_matrix(y_test, y_pred)\n",
    "\n",
    "    fig, ax = plt.subplots(1,2,figsize=(12,5))\n",
    "\n",
    "    sns.heatmap(train_confusion/np.sum(train_confusion), ax=ax[0], annot=True, fmt='.2%', cmap='Reds')\n",
    "    ax[0].set_xlabel('Predicted labels')\n",
    "    ax[0].set_ylabel('Actual labels')\n",
    "    ax[0].set_title('Confusion matrix (train set)')\n",
    "\n",
    "    sns.heatmap(test_confusion/np.sum(test_confusion), ax=ax[1], annot=True, fmt='.2%', cmap='Reds')\n",
    "    ax[1].set_title('Confusion matrix (test set)')\n",
    "    ax[1].set_xlabel('Predicted labels')\n",
    "    ax[1].set_ylabel('Actual labels')\n"
   ]
  },
  {
   "cell_type": "code",
   "execution_count": 31,
   "metadata": {
    "scrolled": false
   },
   "outputs": [
    {
     "name": "stderr",
     "output_type": "stream",
     "text": [
      "/usr/lib64/python3.6/site-packages/sklearn/preprocessing/label.py:151: DeprecationWarning: The truth value of an empty array is ambiguous. Returning False, but in future this will result in an error. Use `array.size > 0` to check that an array is not empty.\n",
      "  if diff:\n"
     ]
    },
    {
     "name": "stdout",
     "output_type": "stream",
     "text": [
      "Training f1-score: [0.99697885 0.98313253 0.99180328]\n",
      "Test f1-score: [0.95712861 0.71345029 0.88235294]\n"
     ]
    },
    {
     "data": {
      "image/png": "[encoded data removed]",
      "text/plain": [
       "<Figure size 864x360 with 4 Axes>"
      ]
     },
     "metadata": {},
     "output_type": "display_data"
    }
   ],
   "source": [
    "from sklearn.ensemble import VotingClassifier\n",
    "from sklearn.neighbors import KNeighborsClassifier as Knn\n",
    "from sklearn.linear_model import LogisticRegressionCV\n",
    "from sklearn.tree import DecisionTreeClassifier\n",
    "from sklearn.ensemble import RandomForestClassifier\n",
    "#import xgboost as xgb\n",
    "\n",
    "X_train, X_test, y_train, y_test = train_test_split(X, y, test_size=0.30, stratify=y, random_state = 42)\n",
    "\n",
    "# Voting Classification\n",
    "\n",
    "knn = Knn()\n",
    "logreg = LogisticRegressionCV(random_state=42)\n",
    "dtrees = DecisionTreeClassifier(random_state=42)\n",
    "\n",
    "cl = [('LogReg', logreg),\n",
    "      ('KNN', knn),\n",
    "      ('Dec Trees', dtrees)]\n",
    "\n",
    "vot_clas = VotingClassifier(estimators=cl, voting='soft')\n",
    "\n",
    "vot_clas.fit(X_train, y_train)\n",
    "\n",
    "y_pred_vot = vot_clas.predict(X_test)\n",
    "\n",
    "#print_f1score(vot_clas, X_train, y_train, y_test, y_pred_vot)\n",
    "#print_confusion_matrix(vot_clas, X_train, y_train, y_test, y_pred_vot)\n",
    "\n",
    "# Random Forest\n",
    "\n",
    "rf = RandomForestClassifier()\n",
    "\n",
    "rf.fit(X_train, y_train)\n",
    "\n",
    "y_pred_rf = rf.predict(X_test)\n",
    "\n",
    "print_f1score(rf, X_train, y_train, y_test, y_pred_vot)\n",
    "print_confusion_matrix(rf, X_train, y_train, y_test, y_pred_vot)\n",
    "\n",
    "# Extreme Gradient Boosting\n",
    "\n"
   ]
  },
  {
   "cell_type": "code",
   "execution_count": null,
   "metadata": {},
   "outputs": [],
   "source": []
  }
 ],
 "metadata": {
  "kernelspec": {
   "display_name": "Python 3",
   "language": "python",
   "name": "python3"
  },
  "language_info": {
   "codemirror_mode": {
    "name": "ipython",
    "version": 3
   },
   "file_extension": ".py",
   "mimetype": "text/x-python",
   "name": "python",
   "nbconvert_exporter": "python",
   "pygments_lexer": "ipython3",
   "version": "3.6.6"
  }
 },
 "nbformat": 4,
 "nbformat_minor": 2
}
